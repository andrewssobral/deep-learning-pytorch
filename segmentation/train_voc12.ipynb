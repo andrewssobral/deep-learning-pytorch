{
 "cells": [
  {
   "cell_type": "code",
   "execution_count": null,
   "metadata": {},
   "outputs": [],
   "source": [
    "import torch\n",
    "\n",
    "from torch.optim import SGD, Adam, Adadelta, Adagrad, Adamax, ASGD, LBFGS, RMSprop, Rprop\n",
    "from torch.autograd import Variable\n",
    "from torch.utils.data import DataLoader\n",
    "\n",
    "from torchvision.transforms import Compose, CenterCrop, Normalize\n",
    "from torchvision.transforms import ToTensor, Resize\n",
    "\n",
    "from utils.dataset import VOCTrain\n",
    "from utils.criterion import CrossEntropyLoss2d\n",
    "from utils.transform import Relabel, ToLabel, Colorize\n",
    "\n",
    "def save_model(model_name, epoch, step):\n",
    "    filename = f'{model_name}-{epoch:03}-{step:04}.pth'\n",
    "    torch.save(model.state_dict(), filename)\n",
    "    print(f'save: {filename} (epoch: {epoch}, step: {step})')"
   ]
  },
  {
   "cell_type": "markdown",
   "metadata": {},
   "source": [
    "**General parameters**"
   ]
  },
  {
   "cell_type": "code",
   "execution_count": null,
   "metadata": {},
   "outputs": [],
   "source": [
    "NUM_CLASSES = 22                # For Pascal VOC 2012, NUM_CLASSES shoud be equals to '22'.\n",
    "IMG_SIZE    = (256,256)         # All images will be resized to 256x256 pixels.\n",
    "NUM_EPOCHS  = 15                # Number of epochs\n",
    "STEPS_LOSS  = 1                 # default:50 (0 = DISABLED)\n",
    "STEPS_SAVE  = 0                 # default:500 (0 = DISABLED)\n",
    "BATCH_SIZE  = 1                 # Num of training images per step\n",
    "NUM_WORKERS = 1                 # Num of workers\n",
    "MODEL_NAME   = 'trained-models/state'   # Name of the model to save\n",
    "DATASET_PATH = 'datasets/VOC2012'       # Path of the dataset\n",
    "\n",
    "cuda_enabled = torch.cuda.is_available()\n",
    "print(\"CUDA_ENABLED: \", cuda_enabled)"
   ]
  },
  {
   "cell_type": "markdown",
   "metadata": {},
   "source": [
    "**Transformers**"
   ]
  },
  {
   "cell_type": "code",
   "execution_count": null,
   "metadata": {},
   "outputs": [],
   "source": [
    "input_transform = Compose([\n",
    "    CenterCrop(256),\n",
    "    ToTensor(),\n",
    "    Normalize([.485, .456, .406], [.229, .224, .225]),\n",
    "])\n",
    "target_transform = Compose([\n",
    "    CenterCrop(256),\n",
    "    ToLabel(),\n",
    "    Relabel(255, 21),\n",
    "])"
   ]
  },
  {
   "cell_type": "markdown",
   "metadata": {},
   "source": [
    "**Neural networks**"
   ]
  },
  {
   "cell_type": "code",
   "execution_count": null,
   "metadata": {},
   "outputs": [],
   "source": [
    "# SegNet, FCN8, FCN16, FCN32, PSPNet, UNet\n",
    "from networks.SegNet import *\n",
    "Net = SegNet\n",
    "\n",
    "model = Net(NUM_CLASSES)\n",
    "if cuda_enabled:\n",
    "    model = model.cuda()\n",
    "\n",
    "model.train()"
   ]
  },
  {
   "cell_type": "markdown",
   "metadata": {},
   "source": [
    "**Dataset loader**"
   ]
  },
  {
   "cell_type": "code",
   "execution_count": null,
   "metadata": {},
   "outputs": [],
   "source": [
    "loader = DataLoader(\n",
    "    VOCTrain(DATASET_PATH, input_transform, target_transform), \n",
    "    num_workers=NUM_WORKERS, batch_size=BATCH_SIZE, shuffle=True\n",
    ")"
   ]
  },
  {
   "cell_type": "markdown",
   "metadata": {},
   "source": [
    "**Uses BCE loss function**"
   ]
  },
  {
   "cell_type": "code",
   "execution_count": null,
   "metadata": {},
   "outputs": [],
   "source": [
    "criterion = CrossEntropyLoss2d()"
   ]
  },
  {
   "cell_type": "markdown",
   "metadata": {},
   "source": [
    "**Define the optimizer**"
   ]
  },
  {
   "cell_type": "code",
   "execution_count": null,
   "metadata": {},
   "outputs": [],
   "source": [
    "#optimizer = Adam(model.parameters(), lr=1e-3) # default Adam\n",
    "optimizer = SGD(model.parameters(), lr=.1, momentum=.9) # default SGD\n",
    "#optimizer = SGD(model.parameters(), lr=1e-3, momentum=.9) # original SGD\n",
    "#optimizer = Adadelta(model.parameters()) # default Adadelta\n",
    "#optimizer = Adagrad(model.parameters()) # default Adagrad\n",
    "#optimizer = Adamax(model.parameters()) # default Adamax\n",
    "#optimizer = ASGD(model.parameters()) # default ASGD\n",
    "#optimizer = LBFGS(model.parameters()) # default LBFGS\n",
    "#optimizer = RMSprop(model.parameters()) # default RMSprop\n",
    "#optimizer = Rprop(model.parameters()) # default Rprop"
   ]
  },
  {
   "cell_type": "markdown",
   "metadata": {},
   "source": [
    "**Model training**"
   ]
  },
  {
   "cell_type": "code",
   "execution_count": null,
   "metadata": {},
   "outputs": [],
   "source": [
    "iteration = 1\n",
    "for epoch in range(1, NUM_EPOCHS+1):\n",
    "    epoch_loss = []\n",
    "    \n",
    "    for step, (images, labels) in enumerate(loader):\n",
    "        if cuda_enabled:\n",
    "            images = images.cuda()\n",
    "            labels = labels.cuda()\n",
    "\n",
    "        inputs = Variable(images)\n",
    "        targets = Variable(labels)\n",
    "        outputs = model(inputs)\n",
    "\n",
    "        optimizer.zero_grad()\n",
    "\n",
    "        loss = criterion(outputs, targets[:, 0])\n",
    "        loss.backward()\n",
    "        optimizer.step()\n",
    "\n",
    "        epoch_loss.append(loss.data)\n",
    "        average = sum(epoch_loss) / len(epoch_loss)\n",
    "\n",
    "        if STEPS_LOSS > 0 and step % STEPS_LOSS == 0:\n",
    "            print(f'loss: {average} (epoch: {epoch}, step: {step})')\n",
    "\n",
    "        if STEPS_SAVE > 0 and step % STEPS_SAVE == 0:\n",
    "            save_model(MODEL_NAME, epoch, step)\n",
    "\n",
    "        iteration = iteration + 1\n",
    "        #break\n",
    "    #break"
   ]
  },
  {
   "cell_type": "markdown",
   "metadata": {},
   "source": [
    "**Save final model**"
   ]
  },
  {
   "cell_type": "code",
   "execution_count": null,
   "metadata": {},
   "outputs": [],
   "source": [
    "save_model(MODEL_NAME, epoch, step)"
   ]
  }
 ],
 "metadata": {
  "kernelspec": {
   "display_name": "Python 3",
   "language": "python",
   "name": "python3"
  },
  "language_info": {
   "codemirror_mode": {
    "name": "ipython",
    "version": 3
   },
   "file_extension": ".py",
   "mimetype": "text/x-python",
   "name": "python",
   "nbconvert_exporter": "python",
   "pygments_lexer": "ipython3",
   "version": "3.6.3"
  }
 },
 "nbformat": 4,
 "nbformat_minor": 2
}
